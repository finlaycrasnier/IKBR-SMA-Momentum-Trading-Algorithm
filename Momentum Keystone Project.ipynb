{
 "cells": [
  {
   "cell_type": "markdown",
   "metadata": {},
   "source": [
    "# Momentum Keystone Project"
   ]
  },
  {
   "cell_type": "markdown",
   "metadata": {},
   "source": [
    "__Goal:__"
   ]
  },
  {
   "cell_type": "markdown",
   "metadata": {},
   "source": [
    "- We backtest to find optimal SMA/LMA period\n",
    "- We use a momentum strategy if it outperforms long-only approach (in backtesting)\n",
    "- We execute trades"
   ]
  },
  {
   "cell_type": "code",
   "execution_count": null,
   "metadata": {},
   "outputs": [],
   "source": [
    "import pandas as pd\n",
    "import yfinance as yf\n",
    "import numpy as np\n",
    "from datetime import datetime"
   ]
  },
  {
   "cell_type": "markdown",
   "metadata": {},
   "source": [
    "#### We assign initial variables"
   ]
  },
  {
   "cell_type": "code",
   "execution_count": null,
   "metadata": {},
   "outputs": [],
   "source": [
    "stock = \"MSFT\" # our chosen stock\n",
    "td_year = 252 # assumed trading days per year\n",
    "sma = 50 # small moving average (short) if not optimized\n",
    "lma = 200 # small moving average (long) if not optimized\n",
    "shares = 10 #number of shares of stock we purchase\n",
    "today = pd.to_datetime(datetime.today().strftime('%Y-%m-%d'))\n",
    "\n",
    "# The following are minimum / maximum values for the sma and lma used for our OPTIONAL optimizer. Leave random/blank if not running optimzer.\n",
    "\n",
    "smamin = 10\n",
    "smamax = 50\n",
    "lmamin = 100\n",
    "lmamax = 252"
   ]
  },
  {
   "cell_type": "markdown",
   "metadata": {},
   "source": [
    "#### We import and prepare stock data"
   ]
  },
  {
   "cell_type": "code",
   "execution_count": null,
   "metadata": {},
   "outputs": [],
   "source": [
    "stockdata = yf.download(tickers = stock).Close.to_frame()\n",
    "stockdata.rename(columns = {\"Close\":\"Price\"}, inplace = True)"
   ]
  },
  {
   "cell_type": "markdown",
   "metadata": {},
   "source": [
    "#### We have an (optional) moving average optimizer"
   ]
  },
  {
   "cell_type": "code",
   "execution_count": null,
   "metadata": {},
   "outputs": [],
   "source": [
    "def optimzer(SMA):\n",
    "    df = stockdata.copy()\n",
    "    df[\"Returns\"] = np.log(df[\"Price\"].div(df[\"Price\"].shift(1))).dropna()\n",
    "    df[\"SMA\"] = df.Price.rolling(int(SMA[0])).mean()\n",
    "    df[\"LMA\"] = df.Price.rolling(int(SMA[1])).mean()\n",
    "    df.dropna(inplace = True)\n",
    "    \n",
    "    df[\"Position\"] = np.where(df[\"SMA\"]<df[\"LMA\"], -1, 1)\n",
    "    df[\"Strategy_Returns\"] = df.Returns * df.Position.shift(1)\n",
    "    df.dropna(inplace = True)\n",
    "    \n",
    "    return -df[[\"Returns\", \"Strategy_Returns\"]].sum().apply(np.exp)[-1] # negative multiple -> minimize (as scipy can only minimize)\n",
    "\n",
    "from scipy.optimize import brute\n",
    "optimal_averages = brute(optimzer, ((smamin, smamax, 1), (lmamin, lmamax, 1)))\n",
    "sma = int(optimal_averages[0])\n",
    "lma = int(optimal_averages[1])"
   ]
  },
  {
   "cell_type": "markdown",
   "metadata": {},
   "source": [
    "#### We prepare our stock data"
   ]
  },
  {
   "cell_type": "code",
   "execution_count": null,
   "metadata": {},
   "outputs": [],
   "source": [
    "stockdata[\"Returns\"] = np.log(stockdata[\"Price\"].div(stockdata[\"Price\"].shift(1))).dropna()\n",
    "stockdata[\"SMA\"] = stockdata.Price.rolling(sma).mean()\n",
    "stockdata[\"LMA\"] = stockdata.Price.rolling(lma).mean()\n",
    "stockdata.dropna(inplace = True)\n",
    "stockdata[\"Position\"] = np.where(stockdata[\"SMA\"]<stockdata[\"LMA\"], -1, 1)\n",
    "stockdata[\"Strategy_Returns\"] = stockdata.Returns * stockdata.Position.shift(1)"
   ]
  },
  {
   "cell_type": "markdown",
   "metadata": {},
   "source": [
    "#### We calculate returns on long-only strategy VS our optimsed strategy"
   ]
  },
  {
   "cell_type": "code",
   "execution_count": null,
   "metadata": {
    "scrolled": true
   },
   "outputs": [],
   "source": [
    "summary = pd.DataFrame(index=[stock + \" Long Only\"])\n",
    "summary[\"ann. Risk\"] = stockdata.Returns.std() * np.sqrt(td_year)\n",
    "summary[\"CAGR\"] = np.exp(stockdata.Returns.mean() * td_year) - 1\n",
    "strategy_ann_risk = stockdata.Strategy_Returns.std() * np.sqrt(td_year)\n",
    "strategy_cagr = np.exp(stockdata.Strategy_Returns.mean() * td_year) - 1\n",
    "summary.loc[stock + \" Stategy\"] = [strategy_ann_risk, strategy_cagr]\n",
    "\n",
    "if summary.loc[stock + \" Stategy\", \"CAGR\"] > summary.loc[stock + \" Long Only\", \"CAGR\"]:\n",
    "    trade_strategy = \"Strategy\"\n",
    "else:\n",
    "    trade_strategy = \"Long\""
   ]
  },
  {
   "cell_type": "markdown",
   "metadata": {},
   "source": [
    "#### The following plots our returns over time for visual comparison"
   ]
  },
  {
   "cell_type": "code",
   "execution_count": null,
   "metadata": {},
   "outputs": [],
   "source": [
    "import matplotlib.pyplot as plt\n",
    "\n",
    "stockdata[\"bh_norm\"] = stockdata[\"Returns\"].cumsum().apply(np.exp)\n",
    "stockdata[\"strat_norm\"] = stockdata[\"Strategy_Returns\"].cumsum().apply(np.exp)\n",
    "stockdata[[\"bh_norm\", \"strat_norm\"]].plot(figsize = (12, 8), title = \"SMA{} | SMA{}\".format(sma, lma), fontsize = 12)\n",
    "plt.legend(fontsize = 12)\n",
    "plt.show()"
   ]
  },
  {
   "cell_type": "markdown",
   "metadata": {},
   "source": [
    "#### We initiliase our trading tools"
   ]
  },
  {
   "cell_type": "code",
   "execution_count": null,
   "metadata": {},
   "outputs": [],
   "source": [
    "from ib_insync import *\n",
    "util.startLoop()\n",
    "ib = IB()\n",
    "ib.connect()"
   ]
  },
  {
   "cell_type": "markdown",
   "metadata": {},
   "source": [
    "#### We set up our trades (if any)"
   ]
  },
  {
   "cell_type": "code",
   "execution_count": null,
   "metadata": {},
   "outputs": [],
   "source": [
    "#### We initiliase our trading toolspos = ib.positions()\n",
    "df = util.df(pos)\n",
    "if df is not None:\n",
    "    df[\"symbol\"] = df.contract.apply(lambda x: x.symbol)\n",
    "    df[\"conID\"] = df.contract.apply(lambda x: x.conId)\n",
    "else: \n",
    "    df = pd.DataFrame(columns = [\"symbol\", \"position\", \"conID\"])"
   ]
  },
  {
   "cell_type": "code",
   "execution_count": null,
   "metadata": {},
   "outputs": [],
   "source": [
    "contract = Stock(stock, \"SMART\", \"USD\")\n",
    "cds = ib.reqContractDetails(contract)\n",
    "conID = cds[0].contract.conId\n",
    "current_pos = df[df.conID == conID]\n",
    "\n",
    "if len(current_pos) == 0:\n",
    "    actual = 0\n",
    "else: \n",
    "    actual = current_pos.position.iloc[0]\n",
    "    \n",
    "position = stockdata.Position.iloc[-1]\n",
    "if trade_strategy == \"Strategy\":\n",
    "    trades = (position*shares) - actual\n",
    "else:\n",
    "    if actual == 0:\n",
    "        trades = (position#### We set up our trades (if any)*shares) - actual \n",
    "    else:\n",
    "        trades = 0"
   ]
  },
  {
   "cell_type": "markdown",
   "metadata": {},
   "source": [
    "#### We execute our trades (if any)"
   ]
  },
  {
   "cell_type": "code",
   "execution_count": null,
   "metadata": {},
   "outputs": [],
   "source": [
    "if trades > 0:\n",
    "    side = \"BUY\"\n",
    "    order = MarketOrder(side, abs(trades))\n",
    "    trade = ib.placeOrder(contract, order)\n",
    "    while not trade.isDone():\n",
    "        ib.waitOnUpdate()\n",
    "    if trade.orderStatus.status == \"Filled\":\n",
    "        print(\"{} {} {} @ {}\".format(side, trade.orderStatus.filled, stock, trade.orderStatus.avgFillPrice))\n",
    "    else:\n",
    "        print(\"{} {} failed.\".format(side, stock))\n",
    "elif trades < 0:\n",
    "    side = \"SELL\"\n",
    "    order = MarketOrder(side, abs(trades))\n",
    "    trade = ib.placeOrder(contract, order)\n",
    "    while not trade.isDone():\n",
    "        ib.waitOnUpdate()\n",
    "    if trade.orderStatus.status == \"Filled\":\n",
    "        print(\"{} {} {} @ {}\".format(side, trade.orderStatus.filled, stock, trade.orderStatus.avgFillPrice))\n",
    "    else:\n",
    "        \n",
    "        print(\"{} {} failed.\".format(side, stock#### We set up our trades (if any)))\n",
    "else:\n",
    "    print(\"No Trades required.\")"
   ]
  },
  {
   "cell_type": "code",
   "execution_count": null,
   "metadata": {},
   "outputs": [],
   "source": [
    "ib.disconnect()"
   ]
  }
 ],
 "metadata": {
  "kernelspec": {
   "display_name": "Python 3 (ipykernel)",
   "language": "python",
   "name": "python3"
  },
  "language_info": {
   "codemirror_mode": {
    "name": "ipython",
    "version": 3
   },
   "file_extension": ".py",
   "mimetype": "text/x-python",
   "name": "python",
   "nbconvert_exporter": "python",
   "pygments_lexer": "ipython3",
   "version": "3.9.13"
  }
 },
 "nbformat": 4,
 "nbformat_minor": 4
}
